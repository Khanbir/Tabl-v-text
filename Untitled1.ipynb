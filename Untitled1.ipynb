{
  "nbformat": 4,
  "nbformat_minor": 0,
  "metadata": {
    "colab": {
      "provenance": [],
      "authorship_tag": "ABX9TyMtgt7MS1Wt2CKQOoSW+uzu",
      "include_colab_link": true
    },
    "kernelspec": {
      "name": "python3",
      "display_name": "Python 3"
    },
    "language_info": {
      "name": "python"
    }
  },
  "cells": [
    {
      "cell_type": "markdown",
      "metadata": {
        "id": "view-in-github",
        "colab_type": "text"
      },
      "source": [
        "<a href=\"https://colab.research.google.com/github/Khanbir/Tabl-v-text/blob/main/Untitled1.ipynb\" target=\"_parent\"><img src=\"https://colab.research.google.com/assets/colab-badge.svg\" alt=\"Open In Colab\"/></a>"
      ]
    },
    {
      "cell_type": "code",
      "execution_count": 8,
      "metadata": {
        "colab": {
          "base_uri": "https://localhost:8080/"
        },
        "id": "AjABTLu6jC0J",
        "outputId": "af36d04e-b12d-4cd4-cc94-e383d1a68750"
      },
      "outputs": [
        {
          "output_type": "stream",
          "name": "stdout",
          "text": [
            "Requirement already satisfied: python-docx in /usr/local/lib/python3.11/dist-packages (1.2.0)\n",
            "Requirement already satisfied: pandas in /usr/local/lib/python3.11/dist-packages (2.2.2)\n",
            "Requirement already satisfied: openpyxl in /usr/local/lib/python3.11/dist-packages (3.1.5)\n",
            "Requirement already satisfied: lxml>=3.1.0 in /usr/local/lib/python3.11/dist-packages (from python-docx) (5.4.0)\n",
            "Requirement already satisfied: typing_extensions>=4.9.0 in /usr/local/lib/python3.11/dist-packages (from python-docx) (4.14.1)\n",
            "Requirement already satisfied: numpy>=1.23.2 in /usr/local/lib/python3.11/dist-packages (from pandas) (2.0.2)\n",
            "Requirement already satisfied: python-dateutil>=2.8.2 in /usr/local/lib/python3.11/dist-packages (from pandas) (2.9.0.post0)\n",
            "Requirement already satisfied: pytz>=2020.1 in /usr/local/lib/python3.11/dist-packages (from pandas) (2025.2)\n",
            "Requirement already satisfied: tzdata>=2022.7 in /usr/local/lib/python3.11/dist-packages (from pandas) (2025.2)\n",
            "Requirement already satisfied: et-xmlfile in /usr/local/lib/python3.11/dist-packages (from openpyxl) (2.0.0)\n",
            "Requirement already satisfied: six>=1.5 in /usr/local/lib/python3.11/dist-packages (from python-dateutil>=2.8.2->pandas) (1.17.0)\n",
            "✅ Звіт збережено: РУХ КОЛОН ПО ЧАСУ 15.07.2025.docx\n"
          ]
        },
        {
          "output_type": "stream",
          "name": "stderr",
          "text": [
            "/usr/local/lib/python3.11/dist-packages/openpyxl/worksheet/_reader.py:329: UserWarning: Data Validation extension is not supported and will be removed\n",
            "  warn(msg)\n"
          ]
        }
      ],
      "source": [
        "!pip install python-docx pandas openpyxl\n",
        "\n",
        "import pandas as pd\n",
        "from docx import Document\n",
        "from datetime import datetime\n",
        "import os\n",
        "\n",
        "def load_excel_data(filepath, sheet_index=0, skiprows=5):\n",
        "    df = pd.read_excel(filepath, sheet_name=sheet_index, skiprows=skiprows)\n",
        "    df.dropna(how='all', inplace=True)\n",
        "    return df\n",
        "\n",
        "def create_report_from_excel(df, template_path, output_path):\n",
        "    doc = Document(template_path)\n",
        "    today_str = datetime.today().strftime(\"%d.%m.%Y\")\n",
        "    doc.paragraphs[0].text = today_str\n",
        "\n",
        "    # Очищення старих параграфів\n",
        "    for _ in range(len(doc.paragraphs) - 1):\n",
        "        p = doc.paragraphs[1]._element\n",
        "        p.getparent().remove(p)\n",
        "\n",
        "    for _, row in df.iterrows():\n",
        "        try:\n",
        "            source = str(row[\"Unnamed: 3\"]).strip()\n",
        "            receiver_code = str(row[\"Unnamed: 8\"]).strip()\n",
        "            location = str(row[\"Unnamed: 9\"]).strip()\n",
        "            receiver = f\"{receiver_code} ({location})\"\n",
        "            unit = str(row[\"Unnamed: 11\"]).strip()\n",
        "            qty = str(row[\"Unnamed: 12\"]).strip()\n",
        "            fuel_type = str(row[\"Unnamed: 5\"]).strip()\n",
        "            fuel_amount = \"\"\n",
        "\n",
        "            if fuel_type in [\"А-80\", \"А-92\", \"А-95\"] and pd.notna(row[\"Unnamed: 13\"]):\n",
        "                fuel_amount = f\"{fuel_type} ({row['Unnamed: 13']} т.)\"\n",
        "            elif fuel_type == \"ДП\" and pd.notna(row[\"Unnamed: 14\"]):\n",
        "                fuel_amount = f\"ДП ({row['Unnamed: 14']} т.)\"\n",
        "            else:\n",
        "                fuel_amount = fuel_type\n",
        "\n",
        "            departure = str(row[\"Unnamed: 16\"]).strip()\n",
        "            arrival = str(row[\"Unnamed: 17\"]).strip()\n",
        "\n",
        "            # Абзац з жирним \"Транспорт\"\n",
        "            p = doc.add_paragraph()\n",
        "            run = p.add_run(\"Транспорт \")\n",
        "            run.bold = True\n",
        "            p.add_run(f\"із {source} до {receiver} у складі: {unit} – {qty} од., {fuel_amount}\")\n",
        "\n",
        "            doc.add_paragraph(f\"Вибуття орієнтовно: {departure} Прибуття орієнтовно: {arrival}\")\n",
        "            doc.add_paragraph()\n",
        "        except Exception as e:\n",
        "            doc.add_paragraph(f\"ПОМИЛКА ОБРОБКИ: {e}\")\n",
        "            doc.add_paragraph()\n",
        "\n",
        "    doc.save(output_path)\n",
        "    print(f\"✅ Звіт збережено: {output_path}\")\n",
        "\n",
        "if __name__ == \"__main__\":\n",
        "    excel_path = \"Колони.xlsx\"\n",
        "    template_path = \"Шаблон.docx\"\n",
        "    output_path = f\"РУХ КОЛОН ПО ЧАСУ {datetime.today().strftime('%d.%m.%Y')}.docx\"\n",
        "\n",
        "    if os.path.exists(excel_path) and os.path.exists(template_path):\n",
        "        df = load_excel_data(excel_path)\n",
        "        create_report_from_excel(df, template_path, output_path)\n",
        "    else:\n",
        "        print(\"❌ Не знайдено файл 'Колони.xlsx' або 'Шаблон.docx'. Покладіть їх у ту саму папку.\")\n"
      ]
    }
  ]
}